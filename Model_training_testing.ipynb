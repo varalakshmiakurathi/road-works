{
 "cells": [
  {
   "cell_type": "code",
   "execution_count": null,
   "id": "3c62473e-98cb-4792-bee3-ac0aa319eebf",
   "metadata": {},
   "outputs": [],
   "source": [
    "#For training on yolov5 model\n",
    "\n",
    "!python3 train.py --weights yolov5s.pt --data data_folder --epoch epoch_number --img img_size --batch batch_size"
   ]
  },
  {
   "cell_type": "code",
   "execution_count": 2,
   "id": "7509699a-6c41-43a9-a57a-d197ba3551f9",
   "metadata": {},
   "outputs": [],
   "source": [
    "#For testing the model\n",
    "\n",
    "!python3 detect.py --weights file_path --source img_folder/video/yt_link/real_time_feed"
   ]
  }
 ],
 "metadata": {
  "kernelspec": {
   "display_name": "Python 3 (ipykernel)",
   "language": "python",
   "name": "python3"
  },
  "language_info": {
   "codemirror_mode": {
    "name": "ipython",
    "version": 3
   },
   "file_extension": ".py",
   "mimetype": "text/x-python",
   "name": "python",
   "nbconvert_exporter": "python",
   "pygments_lexer": "ipython3",
   "version": "3.10.12"
  }
 },
 "nbformat": 4,
 "nbformat_minor": 5
}
